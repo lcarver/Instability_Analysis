{
 "cells": [
  {
   "cell_type": "markdown",
   "metadata": {},
   "source": [
    "# Examples for pytimber"
   ]
  },
  {
   "cell_type": "markdown",
   "metadata": {},
   "source": [
    "Accessing the CERN logging database and extracting machine parameters."
   ]
  },
  {
   "cell_type": "code",
   "execution_count": 1,
   "metadata": {
    "collapsed": false
   },
   "outputs": [
    {
     "name": "stdout",
     "output_type": "stream",
     "text": [
      "Using matplotlib backend: agg\n",
      "Populating the interactive namespace from numpy and matplotlib\n"
     ]
    }
   ],
   "source": [
    "%pylab\n",
    "import pytimber\n",
    "import datetime\n",
    "log = pytimber.LoggingDB()"
   ]
  },
  {
   "cell_type": "markdown",
   "metadata": {},
   "source": [
    "## Search for parameters\n",
    "Use the wildcard `%`"
   ]
  },
  {
   "cell_type": "code",
   "execution_count": 2,
   "metadata": {
    "collapsed": false,
    "scrolled": true
   },
   "outputs": [
    {
     "data": {
      "text/plain": [
       "['LHC.BCTDC.A6R4.B1:BEAM_INTENSITY',\n",
       " 'LHC.BCTDC.A6R4.B1:BEAM_INTENSITY_ADC24BIT',\n",
       " 'LHC.BCTDC.A6R4.B2:BEAM_INTENSITY',\n",
       " 'LHC.BCTDC.A6R4.B2:BEAM_INTENSITY_ADC24BIT',\n",
       " 'LHC.BCTDC.B6R4.B1:BEAM_INTENSITY',\n",
       " 'LHC.BCTDC.B6R4.B1:BEAM_INTENSITY_ADC24BIT',\n",
       " 'LHC.BCTDC.B6R4.B2:BEAM_INTENSITY',\n",
       " 'LHC.BCTDC.B6R4.B2:BEAM_INTENSITY_ADC24BIT']"
      ]
     },
     "execution_count": 2,
     "metadata": {},
     "output_type": "execute_result"
    }
   ],
   "source": [
    "log.search(\"LHC.BCTDC.%:BEAM_INTENSITY%\")"
   ]
  },
  {
   "cell_type": "markdown",
   "metadata": {},
   "source": [
    "## Explore the parameter tree"
   ]
  },
  {
   "cell_type": "markdown",
   "metadata": {},
   "source": [
    "Use the ipython autocomplete (`TAB`) to explorer the parameter tree interactively."
   ]
  },
  {
   "cell_type": "code",
   "execution_count": 3,
   "metadata": {
    "collapsed": false
   },
   "outputs": [
    {
     "data": {
      "text/plain": [
       "['LHC.BQM.B1:ADC_AQUISITION_MAX',\n",
       " 'LHC.BQM.B1:ADC_AQUISITION_MIN',\n",
       " 'LHC.BQM.B1:ADC_WAVEFORM',\n",
       " 'LHC.BQM.B1:ATTENUATION',\n",
       " 'LHC.BQM.B1:BUNCH_INTENSITIES',\n",
       " 'LHC.BQM.B1:BUNCH_INTENSITY_MAX',\n",
       " 'LHC.BQM.B1:BUNCH_INTENSITY_MEAN',\n",
       " 'LHC.BQM.B1:BUNCH_INTENSITY_MIN',\n",
       " 'LHC.BQM.B1:BUNCH_INTENSITY_STDDEV',\n",
       " 'LHC.BQM.B1:BUNCH_LENGTHS',\n",
       " 'LHC.BQM.B1:BUNCH_LENGTH_MAX',\n",
       " 'LHC.BQM.B1:BUNCH_LENGTH_MEAN',\n",
       " 'LHC.BQM.B1:BUNCH_LENGTH_MIN',\n",
       " 'LHC.BQM.B1:BUNCH_LENGTH_STDDEV',\n",
       " 'LHC.BQM.B1:BUNCH_MEANS',\n",
       " 'LHC.BQM.B1:BUNCH_PEAKS',\n",
       " 'LHC.BQM.B1:BUNCH_PEAK_MAX',\n",
       " 'LHC.BQM.B1:BUNCH_PEAK_MEAN',\n",
       " 'LHC.BQM.B1:BUNCH_PEAK_MIN',\n",
       " 'LHC.BQM.B1:BUNCH_PEAK_STDDEV',\n",
       " 'LHC.BQM.B1:FILLED_BUCKETS',\n",
       " 'LHC.BQM.B1:NO_BUNCHES']"
      ]
     },
     "execution_count": 3,
     "metadata": {},
     "output_type": "execute_result"
    }
   ],
   "source": [
    "log.tree.LHC.Beam_Quality.Beam_1.get_vars()"
   ]
  },
  {
   "cell_type": "markdown",
   "metadata": {},
   "source": [
    "## Get\n",
    "get() is the main function to query data from the database. The options are:\n",
    "\n",
    "    +    a list of variables names or a pattern for variable name matching;\n",
    "    +    the start of the time window;\n",
    "    +    the end of the time window (optional). If t2 is `None`, the last available data point before t1 is returned\n",
    "         (search-range is one year);\n",
    "    +    a pattern for fundamental data matching (optional)."
   ]
  },
  {
   "cell_type": "markdown",
   "metadata": {},
   "source": [
    "### Get the latest datapoint\n",
    "If only one timestamp is given as a parameter, the closest datapoint to it is returned"
   ]
  },
  {
   "cell_type": "code",
   "execution_count": 3,
   "metadata": {
    "collapsed": false
   },
   "outputs": [
    {
     "name": "stdout",
     "output_type": "stream",
     "text": [
      "List of variables to be queried:\n",
      "LHC.BCTDC.A6R4.B1:BEAM_INTENSITY\n",
      "Retrieved 1 values for LHC.BCTDC.A6R4.B1:BEAM_INTENSITY\n"
     ]
    },
    {
     "data": {
      "text/plain": [
       "(datetime.datetime(2015, 12, 3, 15, 50, 39), 3212811170000.0)"
      ]
     },
     "execution_count": 3,
     "metadata": {},
     "output_type": "execute_result"
    }
   ],
   "source": [
    "ts = datetime.datetime.now()\n",
    "log.get(\"LHC.BCTDC.A6R4.B1:BEAM_INTENSITY\", ts)"
   ]
  },
  {
   "cell_type": "markdown",
   "metadata": {},
   "source": [
    "Timestamps can be specified as python `datetime` object or as string:"
   ]
  },
  {
   "cell_type": "code",
   "execution_count": 4,
   "metadata": {
    "collapsed": false
   },
   "outputs": [
    {
     "name": "stdout",
     "output_type": "stream",
     "text": [
      "List of variables to be queried:\n",
      "LHC.BCTDC.A6R4.B1:BEAM_INTENSITY\n",
      "Retrieved 1 values for LHC.BCTDC.A6R4.B1:BEAM_INTENSITY\n"
     ]
    },
    {
     "data": {
      "text/plain": [
       "(datetime.datetime(2015, 10, 12, 18, 12, 32), 8196013600.0)"
      ]
     },
     "execution_count": 4,
     "metadata": {},
     "output_type": "execute_result"
    }
   ],
   "source": [
    "tsStr = \"2015-10-12 18:12:32.453255123\"\n",
    "log.get(\"LHC.BCTDC.A6R4.B1:BEAM_INTENSITY\", tsStr)"
   ]
  },
  {
   "cell_type": "markdown",
   "metadata": {},
   "source": [
    "### Get datapoints in a time range\n",
    "\n",
    "Use datetime.timedelta to define time-offsets.\n",
    "\n",
    "Here we get data from ten minutes in the past over a window of 10 seconds"
   ]
  },
  {
   "cell_type": "code",
   "execution_count": 5,
   "metadata": {
    "collapsed": false
   },
   "outputs": [
    {
     "name": "stdout",
     "output_type": "stream",
     "text": [
      "List of variables to be queried:\n",
      "F16.BCT.203:TOTAL_INTENSITY\n",
      "Retrieved 8 values for F16.BCT.203:TOTAL_INTENSITY\n"
     ]
    },
    {
     "data": {
      "text/plain": [
       "([datetime.datetime(2015, 12, 3, 15, 39, 58, 299999),\n",
       "  datetime.datetime(2015, 12, 3, 15, 39, 59, 500000),\n",
       "  datetime.datetime(2015, 12, 3, 15, 40, 0, 700000),\n",
       "  datetime.datetime(2015, 12, 3, 15, 40, 1, 900000),\n",
       "  datetime.datetime(2015, 12, 3, 15, 40, 4, 299999),\n",
       "  datetime.datetime(2015, 12, 3, 15, 40, 5, 500000),\n",
       "  datetime.datetime(2015, 12, 3, 15, 40, 6, 700000),\n",
       "  datetime.datetime(2015, 12, 3, 15, 40, 7, 900000)],\n",
       " [0.8495, 0.9815, 1.2483, 5.1966, 0.1751, 2.3153, 0.2713, 1.6268])"
      ]
     },
     "execution_count": 5,
     "metadata": {},
     "output_type": "execute_result"
    }
   ],
   "source": [
    "ts1 = datetime.datetime.now() + datetime.timedelta(minutes=-10, seconds=-60)\n",
    "ts2 = datetime.datetime.now() + datetime.timedelta(minutes=-10, seconds=-50)\n",
    "log.get(\"F16.BCT.203:TOTAL_INTENSITY\", ts1, ts2)"
   ]
  },
  {
   "cell_type": "markdown",
   "metadata": {},
   "source": [
    "### Filter by fundamental data\n",
    "\n",
    "A pattern can be provided as last argument of get. It is used to find fundamental data (cycle names in most cases) in the given time window. Only data point having a timestamp where one of the fundamentals is present are returned."
   ]
  },
  {
   "cell_type": "code",
   "execution_count": 6,
   "metadata": {
    "collapsed": false
   },
   "outputs": [
    {
     "name": "stdout",
     "output_type": "stream",
     "text": [
      "List of variables to be queried:\n",
      "F16.BCT.203:TOTAL_INTENSITY\n",
      "F16.BCT.212:TOTAL_INTENSITY\n",
      "Querying fundamentals (pattern: CPS:LHC%):\n",
      "CPS:LHC_ION_NOMINAL_PB54:ION3\n",
      "Retrieved 6 values for F16.BCT.203:TOTAL_INTENSITY\n",
      "Retrieved 6 values for F16.BCT.212:TOTAL_INTENSITY\n"
     ]
    },
    {
     "data": {
      "text/plain": [
       "{'F16.BCT.203:TOTAL_INTENSITY': ([datetime.datetime(2015, 12, 3, 10, 30, 4, 299999),\n",
       "   datetime.datetime(2015, 12, 3, 10, 30, 25, 900000),\n",
       "   datetime.datetime(2015, 12, 3, 10, 30, 47, 500000),\n",
       "   datetime.datetime(2015, 12, 3, 10, 31, 9, 99999),\n",
       "   datetime.datetime(2015, 12, 3, 10, 31, 30, 700000),\n",
       "   datetime.datetime(2015, 12, 3, 10, 31, 52, 299999)],\n",
       "  [4.5622, 4.2348, 4.4315, 3.7718, 4.7268, 4.4153]),\n",
       " 'F16.BCT.212:TOTAL_INTENSITY': ([datetime.datetime(2015, 12, 3, 10, 30, 4, 299999),\n",
       "   datetime.datetime(2015, 12, 3, 10, 30, 25, 900000),\n",
       "   datetime.datetime(2015, 12, 3, 10, 30, 47, 500000),\n",
       "   datetime.datetime(2015, 12, 3, 10, 31, 9, 99999),\n",
       "   datetime.datetime(2015, 12, 3, 10, 31, 30, 700000),\n",
       "   datetime.datetime(2015, 12, 3, 10, 31, 52, 299999)],\n",
       "  [6.0375, 5.9465, 5.8345, 5.201, 6.7865, 5.7365])}"
      ]
     },
     "execution_count": 6,
     "metadata": {},
     "output_type": "execute_result"
    }
   ],
   "source": [
    "ts1 = datetime.datetime(2015, 12, 3, 10, 30, 0)\n",
    "ts2 = '2015-12-03 10:32:00'\n",
    "log.get('F16.BCT.2%:TOTAL_INTENSITY', ts1 ,ts2, 'CPS:LHC%')"
   ]
  },
  {
   "cell_type": "markdown",
   "metadata": {},
   "source": [
    "An explicit list of variables can also be provided:"
   ]
  },
  {
   "cell_type": "code",
   "execution_count": 7,
   "metadata": {
    "collapsed": false
   },
   "outputs": [
    {
     "data": {
      "text/plain": [
       "{'F16.BCT.126:TOTAL_INTENSITY': ([datetime.datetime(2015, 12, 3, 10, 30, 4, 299999),\n",
       "   datetime.datetime(2015, 12, 3, 10, 30, 25, 900000),\n",
       "   datetime.datetime(2015, 12, 3, 10, 30, 47, 500000),\n",
       "   datetime.datetime(2015, 12, 3, 10, 31, 9, 99999),\n",
       "   datetime.datetime(2015, 12, 3, 10, 31, 30, 700000),\n",
       "   datetime.datetime(2015, 12, 3, 10, 31, 52, 299999)],\n",
       "  [4.676271, 3.9286778, 4.2757745, 3.169642, 4.4016447, 4.5504003]),\n",
       " 'F16.BCT.203:TOTAL_INTENSITY': ([datetime.datetime(2015, 12, 3, 10, 30, 4, 299999),\n",
       "   datetime.datetime(2015, 12, 3, 10, 30, 25, 900000),\n",
       "   datetime.datetime(2015, 12, 3, 10, 30, 47, 500000),\n",
       "   datetime.datetime(2015, 12, 3, 10, 31, 9, 99999),\n",
       "   datetime.datetime(2015, 12, 3, 10, 31, 30, 700000),\n",
       "   datetime.datetime(2015, 12, 3, 10, 31, 52, 299999)],\n",
       "  [4.5622, 4.2348, 4.4315, 3.7718, 4.7268, 4.4153])}"
      ]
     },
     "execution_count": 7,
     "metadata": {},
     "output_type": "execute_result"
    }
   ],
   "source": [
    "log.mute()\n",
    "log.get(['F16.BCT.126:TOTAL_INTENSITY', 'F16.BCT.203:TOTAL_INTENSITY'], ts1, ts2, 'CPS:LHC%')"
   ]
  },
  {
   "cell_type": "markdown",
   "metadata": {},
   "source": [
    "It is also possible to query the fundamentals directly:"
   ]
  },
  {
   "cell_type": "code",
   "execution_count": 8,
   "metadata": {
    "collapsed": false
   },
   "outputs": [
    {
     "data": {
      "text/plain": [
       "['CPS:MTE_0:SFTPRO1',\n",
       " 'CPS:MTE_1600:SFTPRO2',\n",
       " 'CPS:MTE_2000:MD1',\n",
       " 'CPS:MTE_2000:SFTPRO2',\n",
       " 'CPS:MTE_2500:MD1',\n",
       " 'CPS:MTE_2500:MD4',\n",
       " 'CPS:MTE_2500:SFTPRO2',\n",
       " 'CPS:MTE_OP:MD1']"
      ]
     },
     "execution_count": 8,
     "metadata": {},
     "output_type": "execute_result"
    }
   ],
   "source": [
    "ts1 = datetime.datetime(2015, 10, 1, 0, 0, 0)\n",
    "ts2 = '2015-11-01 00:00:00'\n",
    "# Uses list comprehension to return a Python list\n",
    "[f for f in log.getFundamentals(pytimber.toTimestamp(ts1), pytimber.toTimestamp(ts2), 'CPS:MTE%')]"
   ]
  },
  {
   "cell_type": "markdown",
   "metadata": {},
   "source": [
    "### Get 'aligned' datasets\n",
    "\n",
    "When working with more than one variable it is possible to set one variable as the *master* variable and acquire the other variables only for timestamps that are present for the 'master'.\n",
    "\n",
    "This works with and without filtering by fundamentals.\n",
    "\n",
    "By default the first variable (from an explicit list or from pattern matching) is used as the *master*.\n",
    "\n",
    "**Note:** The output is different from the one obtained with a simple get(). The dictionnary that is returned contains only one list of timestamps ('timestamps' entry). The dictionnary contains one entry per variable with a list of values."
   ]
  },
  {
   "cell_type": "code",
   "execution_count": 2,
   "metadata": {
    "collapsed": false
   },
   "outputs": [
    {
     "name": "stdout",
     "output_type": "stream",
     "text": [
      "List of variables to be queried:\n",
      "F16.BCT.126:TOTAL_INTENSITY (using as master).\n",
      "F16.BCT.203:TOTAL_INTENSITY\n",
      "F16.BCT.212:TOTAL_INTENSITY\n",
      "F16.BCT.372:TOTAL_INTENSITY\n",
      "Querying fundamentals (pattern: CPS:LHC%):\n",
      "CPS:LHC_ION_NOMINAL_PB54:ION3\n",
      "Retrieved 8 values for F16.BCT.126:TOTAL_INTENSITY (master)\n",
      "Retrieved 8 values for F16.BCT.203:TOTAL_INTENSITY\n",
      "Retrieved 8 values for F16.BCT.212:TOTAL_INTENSITY\n",
      "Retrieved 8 values for F16.BCT.372:TOTAL_INTENSITY\n"
     ]
    },
    {
     "data": {
      "text/plain": [
       "{'F16.BCT.126:TOTAL_INTENSITY': [4.5237007,\n",
       "  4.5999856,\n",
       "  4.188047,\n",
       "  4.268146,\n",
       "  4.5046296,\n",
       "  4.2147465,\n",
       "  4.4550443,\n",
       "  4.5046296],\n",
       " 'F16.BCT.203:TOTAL_INTENSITY': [4.8991,\n",
       "  4.8552,\n",
       "  4.8256,\n",
       "  4.8235,\n",
       "  4.7284,\n",
       "  4.8768,\n",
       "  4.7939,\n",
       "  4.8701],\n",
       " 'F16.BCT.212:TOTAL_INTENSITY': [6.86,\n",
       "  6.517,\n",
       "  6.3805,\n",
       "  6.9755,\n",
       "  6.594,\n",
       "  6.7445,\n",
       "  6.272,\n",
       "  6.272],\n",
       " 'F16.BCT.372:TOTAL_INTENSITY': [7.2526,\n",
       "  7.225,\n",
       "  6.9502,\n",
       "  7.0758,\n",
       "  6.8919,\n",
       "  7.1064,\n",
       "  7.2472,\n",
       "  7.3118],\n",
       " 'timestamps': [datetime.datetime(2015, 12, 3, 14, 0, 18, 700000),\n",
       "  datetime.datetime(2015, 12, 3, 14, 0, 40, 299999),\n",
       "  datetime.datetime(2015, 12, 3, 14, 1, 1, 900000),\n",
       "  datetime.datetime(2015, 12, 3, 14, 1, 23, 500000),\n",
       "  datetime.datetime(2015, 12, 3, 14, 1, 45, 99999),\n",
       "  datetime.datetime(2015, 12, 3, 14, 2, 6, 700000),\n",
       "  datetime.datetime(2015, 12, 3, 14, 2, 28, 299999),\n",
       "  datetime.datetime(2015, 12, 3, 14, 2, 49, 900000)]}"
      ]
     },
     "execution_count": 2,
     "metadata": {},
     "output_type": "execute_result"
    }
   ],
   "source": [
    "log.unmute()\n",
    "log.getAligned('F16.BCT.%:TOTAL_INTENSITY', '2015-12-03 14:00:00', '2015-12-03 14:03:00', 'CPS:LHC%')"
   ]
  },
  {
   "cell_type": "markdown",
   "metadata": {},
   "source": [
    "## Use cases\n",
    "\n",
    "### Plot timestamped data"
   ]
  },
  {
   "cell_type": "code",
   "execution_count": 27,
   "metadata": {
    "collapsed": false,
    "scrolled": false
   },
   "outputs": [
    {
     "data": {
      "image/png": "[encoded data removed]",
      "text/plain": [
       "<matplotlib.figure.Figure at 0x7fb9c44614a8>"
      ]
     },
     "metadata": {},
     "output_type": "display_data"
    }
   ],
   "source": [
    "ts1 = datetime.datetime.now() + datetime.timedelta(hours=-1)\n",
    "ts2 = datetime.datetime.now()\n",
    "tss, dat = log.get(\"LHC.BCTDC.A6R4.B1:BEAM_INTENSITY\", ts1, ts2)\n",
    "plot( tss, dat, \"-\" )\n",
    "xlabel(\"Time\")\n",
    "ylabel(\"Beam intensity\")\n",
    "xfmt = DateFormatter('%H:%M:%S')\n",
    "gca().xaxis.set_major_formatter(xfmt)\n",
    "gcf().autofmt_xdate()\n",
    "display(gcf())\n",
    "close()"
   ]
  },
  {
   "cell_type": "markdown",
   "metadata": {},
   "source": [
    "### Dealing with arrays\n",
    "get individual bunch intensities"
   ]
  },
  {
   "cell_type": "code",
   "execution_count": 31,
   "metadata": {
    "collapsed": false
   },
   "outputs": [
    {
     "name": "stdout",
     "output_type": "stream",
     "text": [
      "2015-10-21 21:53:46.628999\n",
      "[ 0.  0.  0. ...,  0.  0.  0.]\n"
     ]
    },
    {
     "data": {
      "image/png": "[encoded data removed]",
      "text/plain": [
       "<matplotlib.figure.Figure at 0x7fb9c4407390>"
      ]
     },
     "metadata": {},
     "output_type": "display_data"
    }
   ],
   "source": [
    "tss, dat = log.get(\"LHC.BCTFR.A6R4.B1:BUNCH_INTENSITY\", ts1)\n",
    "print( tss )\n",
    "print( dat )\n",
    "plot( dat, \"o-\" )\n",
    "xlabel(\"Bunch index\")\n",
    "ylabel(\"Bunch intensity\")\n",
    "display(gcf())\n",
    "close()"
   ]
  }
 ],
 "metadata": {
  "kernelspec": {
   "display_name": "Python 3",
   "language": "python",
   "name": "python3"
  },
  "language_info": {
   "codemirror_mode": {
    "name": "ipython",
    "version": 3
   },
   "file_extension": ".py",
   "mimetype": "text/x-python",
   "name": "python",
   "nbconvert_exporter": "python",
   "pygments_lexer": "ipython3",
   "version": "3.4.3"
  }
 },
 "nbformat": 4,
 "nbformat_minor": 0
}
